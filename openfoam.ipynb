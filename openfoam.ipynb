{
 "cells": [
  {
   "cell_type": "code",
   "execution_count": 125,
   "metadata": {},
   "outputs": [],
   "source": [
    "import numpy as np\n",
    "import pandas as pd\n",
    "from pathlib import Path"
   ]
  },
  {
   "cell_type": "code",
   "execution_count": 126,
   "metadata": {},
   "outputs": [],
   "source": [
    "# generating some points. these should correspond to the location of the boundary.\n",
    "n = 5\n",
    "z_tot = 0.135\n",
    "dz = z_tot/(n-1)\n",
    "y_list = [0]*n + [0.02]*n\n",
    "x_list = [0]*2*n\n",
    "z_list = [dz *i for i in (range(n))]"
   ]
  },
  {
   "cell_type": "code",
   "execution_count": 127,
   "metadata": {},
   "outputs": [
    {
     "name": "stdout",
     "output_type": "stream",
     "text": [
      "(0.0000000 0.0000000 0.0000000 )\n",
      "(0.0000000 0.0000000 0.0337500 )\n",
      "(0.0000000 0.0000000 0.0675000 )\n",
      "(0.0000000 0.0000000 0.1012500 )\n",
      "(0.0000000 0.0000000 0.1350000 )\n",
      "(0.0000000 0.0200000 0.0000000 )\n",
      "(0.0000000 0.0200000 0.0337500 )\n",
      "(0.0000000 0.0200000 0.0675000 )\n",
      "(0.0000000 0.0200000 0.1012500 )\n",
      "(0.0000000 0.0200000 0.1350000 )\n"
     ]
    }
   ],
   "source": [
    "for x,y,z in zip(x_list,y_list,z_list*2 ):\n",
    "    print('({:.7f} {:.7f} {:.7f} )'.format(x,y,z))"
   ]
  },
  {
   "cell_type": "code",
   "execution_count": 131,
   "metadata": {},
   "outputs": [],
   "source": [
    "dir = 'boundarydata'\n",
    "npoints = len(y_list)\n",
    "Path('{}/'.format(dir)).mkdir(parents=True, exist_ok=True)\n",
    "\n",
    "with open('{}/points'.format(dir), 'w') as the_file:\n",
    "    the_file.write('// points\\n {}\\n('.format(npoints))\n",
    "    \n",
    "    for x,y,z in zip(x_list,y_list,z_list*2 ):\n",
    "        the_file.write('({:.7f} {:.7f} {:.7f} )\\n'.format(x,y,z))\n",
    "        \n",
    "    the_file.write(')\\n //***************************************//')"
   ]
  },
  {
   "cell_type": "markdown",
   "metadata": {},
   "source": [
    "# fixing the data"
   ]
  },
  {
   "cell_type": "code",
   "execution_count": 93,
   "metadata": {},
   "outputs": [],
   "source": [
    "df = pd.read_csv('testdata.csv', header = None)"
   ]
  },
  {
   "cell_type": "code",
   "execution_count": 122,
   "metadata": {},
   "outputs": [
    {
     "data": {
      "text/plain": [
       "809.22485592"
      ]
     },
     "execution_count": 122,
     "metadata": {},
     "output_type": "execute_result"
    }
   ],
   "source": [
    "df.head().mean().mean()"
   ]
  },
  {
   "cell_type": "code",
   "execution_count": 98,
   "metadata": {},
   "outputs": [],
   "source": [
    "Path(\"my/{}\".format()).mkdir(parents=True, exist_ok=True)"
   ]
  },
  {
   "cell_type": "code",
   "execution_count": 111,
   "metadata": {},
   "outputs": [
    {
     "name": "stdout",
     "output_type": "stream",
     "text": [
      "0.0 (825.894836)(816.167786)(793.994080)(815.867493)(794.253601)\n",
      "0.001 (825.921143)(816.165710)(793.960083)(815.818359)(794.251953)\n",
      "0.002 (825.930847)(816.140198)(793.988342)(815.889343)(794.237732)\n",
      "0.003 (825.905640)(816.154846)(793.993713)(815.878479)(794.211121)\n",
      "0.004 (825.878723)(816.138855)(793.948425)(815.814758)(794.215332)\n"
     ]
    }
   ],
   "source": [
    "for i, row in enumerate(df.values[:5,:]):\n",
    "    print (i/1000,'({:.6f})({:.6f})({:.6f})({:.6f})({:.6f})'.format(row[0], row[1],row[2], row[3], row[4]))"
   ]
  },
  {
   "cell_type": "code",
   "execution_count": 134,
   "metadata": {},
   "outputs": [],
   "source": [
    "# the data can for any time step. in this case Hz is 1000 \n",
    "\n",
    "for i, row in enumerate(df.values[0:10,:]): # loop only goes to row 10 for safety. in real test take the whole df\n",
    "    i=i/1000\n",
    "    Path(\"{}/{}\".format(dir,i)).mkdir(parents=True, exist_ok=True)\n",
    "    with open('{}/{}/T'.format(dir,i), 'w') as the_file:\n",
    "        the_file.write('10\\n')\n",
    "        the_file.write('(\\n {:.6f}\\n {:.6f}\\n {:.6f}\\n {:.6f}\\n {:.6f} \\n'.format(row[0], row[1],row[2], row[3], row[4]))\n",
    "        the_file.write(' {:.6f}\\n {:.6f}\\n {:.6f}\\n {:.6f}\\n {:.6f} )'.format(row[0], row[1],row[2], row[3], row[4]))"
   ]
  },
  {
   "cell_type": "code",
   "execution_count": null,
   "metadata": {},
   "outputs": [],
   "source": []
  }
 ],
 "metadata": {
  "kernelspec": {
   "display_name": "Python 3",
   "language": "python",
   "name": "python3"
  },
  "language_info": {
   "codemirror_mode": {
    "name": "ipython",
    "version": 3
   },
   "file_extension": ".py",
   "mimetype": "text/x-python",
   "name": "python",
   "nbconvert_exporter": "python",
   "pygments_lexer": "ipython3",
   "version": "3.7.5"
  }
 },
 "nbformat": 4,
 "nbformat_minor": 4
}
